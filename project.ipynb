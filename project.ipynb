{
 "cells": [
  {
   "cell_type": "code",
   "execution_count": 1,
   "id": "8c45030a",
   "metadata": {},
   "outputs": [],
   "source": [
    "import pandas as pd\n",
    "import matplotlib as mpl\n",
    "import matplotlib.pyplot as plt\n",
    "import plotly.express as px\n",
    "import seaborn as sns\n",
    "\n",
    "mpl.rc('font', family='Malgun Gothic')"
   ]
  },
  {
   "cell_type": "markdown",
   "id": "4b3b820a",
   "metadata": {},
   "source": [
    "# 데이터 불러오기"
   ]
  },
  {
   "cell_type": "code",
   "execution_count": 2,
   "id": "c9b5c1e5",
   "metadata": {},
   "outputs": [
    {
     "name": "stderr",
     "output_type": "stream",
     "text": [
      "C:\\Users\\DMC CONET\\AppData\\Local\\Temp\\ipykernel_6540\\3122442656.py:3: DtypeWarning: Columns (5) have mixed types. Specify dtype option on import or set low_memory=False.\n",
      "  df_sales = pd.read_csv('./Sales_data02.csv')\n"
     ]
    }
   ],
   "source": [
    "df_member = pd.read_csv('./Member_data02.csv')\n",
    "df_product = pd.read_csv('./Product_data.csv')\n",
    "df_sales = pd.read_csv('./Sales_data02.csv')"
   ]
  },
  {
   "cell_type": "markdown",
   "id": "38491ada",
   "metadata": {},
   "source": [
    "# info"
   ]
  },
  {
   "cell_type": "code",
   "execution_count": 3,
   "id": "05b1bf8c",
   "metadata": {
    "collapsed": true
   },
   "outputs": [
    {
     "name": "stdout",
     "output_type": "stream",
     "text": [
      "<class 'pandas.core.frame.DataFrame'>\n",
      "RangeIndex: 81360 entries, 0 to 81359\n",
      "Data columns (total 8 columns):\n",
      " #   Column  Non-Null Count  Dtype  \n",
      "---  ------  --------------  -----  \n",
      " 0   ID      81094 non-null  float64\n",
      " 1   성별      81094 non-null  object \n",
      " 2   결혼유무    81094 non-null  object \n",
      " 3   거주지역    81094 non-null  object \n",
      " 4   연령      81094 non-null  float64\n",
      " 5   결제등록카드  81094 non-null  object \n",
      " 6   유입경로    81094 non-null  object \n",
      " 7   자녀여부    81094 non-null  object \n",
      "dtypes: float64(2), object(6)\n",
      "memory usage: 5.0+ MB\n"
     ]
    }
   ],
   "source": [
    "df_member.info()"
   ]
  },
  {
   "cell_type": "code",
   "execution_count": 4,
   "id": "db23afe3",
   "metadata": {},
   "outputs": [],
   "source": [
    "# 266건 이상치 제거\n",
    "\n",
    "df_member.dropna(inplace = True)"
   ]
  },
  {
   "cell_type": "code",
   "execution_count": 5,
   "id": "83d8d91e",
   "metadata": {
    "collapsed": true
   },
   "outputs": [
    {
     "name": "stdout",
     "output_type": "stream",
     "text": [
      "<class 'pandas.core.frame.DataFrame'>\n",
      "RangeIndex: 3048 entries, 0 to 3047\n",
      "Data columns (total 4 columns):\n",
      " #   Column  Non-Null Count  Dtype \n",
      "---  ------  --------------  ----- \n",
      " 0   물품대분류   3048 non-null   object\n",
      " 1   상품명     3048 non-null   object\n",
      " 2   물품판매량   3048 non-null   int64 \n",
      " 3   제품단가    3048 non-null   int64 \n",
      "dtypes: int64(2), object(2)\n",
      "memory usage: 95.4+ KB\n"
     ]
    }
   ],
   "source": [
    "df_product.info()"
   ]
  },
  {
   "cell_type": "code",
   "execution_count": 6,
   "id": "05bd1e49",
   "metadata": {
    "collapsed": true
   },
   "outputs": [
    {
     "name": "stdout",
     "output_type": "stream",
     "text": [
      "<class 'pandas.core.frame.DataFrame'>\n",
      "RangeIndex: 199999 entries, 0 to 199998\n",
      "Data columns (total 10 columns):\n",
      " #   Column     Non-Null Count   Dtype  \n",
      "---  ------     --------------   -----  \n",
      " 0   주문번호       199999 non-null  object \n",
      " 1   구매일        199999 non-null  object \n",
      " 2   배송시작일      199999 non-null  object \n",
      " 3   배송완료일      199999 non-null  object \n",
      " 4   구매시월령(수정)  168142 non-null  float64\n",
      " 5   고객번호       199999 non-null  object \n",
      " 6   구매금액       199999 non-null  int64  \n",
      " 7   결제금액       199999 non-null  int64  \n",
      " 8   물품대분류      199999 non-null  object \n",
      " 9   상품명        199999 non-null  object \n",
      "dtypes: float64(1), int64(2), object(7)\n",
      "memory usage: 15.3+ MB\n"
     ]
    }
   ],
   "source": [
    "df_sales.info()"
   ]
  },
  {
   "cell_type": "markdown",
   "id": "a6641941",
   "metadata": {},
   "source": [
    "# 분기별 결제금액 및 고객수"
   ]
  },
  {
   "cell_type": "code",
   "execution_count": 8,
   "id": "7464ec12",
   "metadata": {},
   "outputs": [],
   "source": [
    "# object형을 datetime형으로 변환\n",
    "\n",
    "df_sales['구매일_dt'] = pd.to_datetime(df_sales['구매일'])"
   ]
  },
  {
   "cell_type": "code",
   "execution_count": 9,
   "id": "4452a8c5",
   "metadata": {},
   "outputs": [],
   "source": [
    "# 분기구분을 위한 연도, 월 변환\n",
    "\n",
    "df_sales['연도'] = df_sales['구매일_dt'].dt.year\n",
    "df_sales['월'] = df_sales['구매일_dt'].dt.month"
   ]
  },
  {
   "cell_type": "code",
   "execution_count": 10,
   "id": "a3e3dd0e",
   "metadata": {},
   "outputs": [],
   "source": [
    "# 분기구분\n",
    "\n",
    "cond1 = df_sales['연도'] == 2019\n",
    "cond2 = df_sales['연도'] == 2020\n",
    "cond3 = (df_sales['월'] >= 1) & (df_sales['월'] <= 3)\n",
    "cond4 = (df_sales['월'] >= 4) & (df_sales['월'] <= 6)\n",
    "cond5 = (df_sales['월'] >= 7) & (df_sales['월'] <= 9)\n",
    "cond6 = (df_sales['월'] >= 10) & (df_sales['월'] <= 12)\n",
    "\n",
    "df_sales.loc[cond1 & cond3, '분기구분'] = '19_1/4분기'\n",
    "df_sales.loc[cond1 & cond4, '분기구분'] = '19_2/4분기'\n",
    "df_sales.loc[cond1 & cond5, '분기구분'] = '19_3/4분기'\n",
    "df_sales.loc[cond1 & cond6, '분기구분'] = '19_4/4분기'\n",
    "df_sales.loc[cond2 & cond3, '분기구분'] = '20_1/4분기'\n",
    "df_sales.loc[cond2 & cond4, '분기구분'] = '20_2/4분기'\n",
    "df_sales.loc[cond2 & cond5, '분기구분'] = '20_3/4분기'\n",
    "df_sales.loc[cond2 & cond6, '분기구분'] = '20_4/4분기'"
   ]
  },
  {
   "cell_type": "code",
   "execution_count": 11,
   "id": "5181b773",
   "metadata": {},
   "outputs": [
    {
     "data": {
      "text/html": [
       "<div>\n",
       "<style scoped>\n",
       "    .dataframe tbody tr th:only-of-type {\n",
       "        vertical-align: middle;\n",
       "    }\n",
       "\n",
       "    .dataframe tbody tr th {\n",
       "        vertical-align: top;\n",
       "    }\n",
       "\n",
       "    .dataframe thead th {\n",
       "        text-align: right;\n",
       "    }\n",
       "</style>\n",
       "<table border=\"1\" class=\"dataframe\">\n",
       "  <thead>\n",
       "    <tr style=\"text-align: right;\">\n",
       "      <th></th>\n",
       "      <th>분기구분</th>\n",
       "      <th>결제금액</th>\n",
       "      <th>구매금액</th>\n",
       "      <th>할인율</th>\n",
       "    </tr>\n",
       "  </thead>\n",
       "  <tbody>\n",
       "    <tr>\n",
       "      <th>0</th>\n",
       "      <td>19_1/4분기</td>\n",
       "      <td>387112030</td>\n",
       "      <td>549790970</td>\n",
       "      <td>29.589235</td>\n",
       "    </tr>\n",
       "    <tr>\n",
       "      <th>1</th>\n",
       "      <td>19_2/4분기</td>\n",
       "      <td>622253640</td>\n",
       "      <td>863474850</td>\n",
       "      <td>27.936101</td>\n",
       "    </tr>\n",
       "    <tr>\n",
       "      <th>2</th>\n",
       "      <td>19_3/4분기</td>\n",
       "      <td>829886844</td>\n",
       "      <td>1147241820</td>\n",
       "      <td>27.662431</td>\n",
       "    </tr>\n",
       "    <tr>\n",
       "      <th>3</th>\n",
       "      <td>19_4/4분기</td>\n",
       "      <td>1009449090</td>\n",
       "      <td>1420074830</td>\n",
       "      <td>28.915782</td>\n",
       "    </tr>\n",
       "    <tr>\n",
       "      <th>4</th>\n",
       "      <td>20_1/4분기</td>\n",
       "      <td>856540647</td>\n",
       "      <td>1198304020</td>\n",
       "      <td>28.520590</td>\n",
       "    </tr>\n",
       "    <tr>\n",
       "      <th>5</th>\n",
       "      <td>20_2/4분기</td>\n",
       "      <td>469853796</td>\n",
       "      <td>679705320</td>\n",
       "      <td>30.873898</td>\n",
       "    </tr>\n",
       "    <tr>\n",
       "      <th>6</th>\n",
       "      <td>20_3/4분기</td>\n",
       "      <td>167641791</td>\n",
       "      <td>255783250</td>\n",
       "      <td>34.459434</td>\n",
       "    </tr>\n",
       "  </tbody>\n",
       "</table>\n",
       "</div>"
      ],
      "text/plain": [
       "       분기구분        결제금액        구매금액        할인율\n",
       "0  19_1/4분기   387112030   549790970  29.589235\n",
       "1  19_2/4분기   622253640   863474850  27.936101\n",
       "2  19_3/4분기   829886844  1147241820  27.662431\n",
       "3  19_4/4분기  1009449090  1420074830  28.915782\n",
       "4  20_1/4분기   856540647  1198304020  28.520590\n",
       "5  20_2/4분기   469853796   679705320  30.873898\n",
       "6  20_3/4분기   167641791   255783250  34.459434"
      ]
     },
     "execution_count": 11,
     "metadata": {},
     "output_type": "execute_result"
    }
   ],
   "source": [
    "# 분기별 결제금액 및 구매금액\n",
    "\n",
    "p1 = df_sales.pivot_table(index = '분기구분', \n",
    "                          values = ['구매금액', '결제금액'],\n",
    "                          aggfunc = 'sum').reset_index()\n",
    "p1['할인율'] = ((p1['구매금액'] - p1['결제금액']) / p1['구매금액']) * 100\n",
    "p1"
   ]
  },
  {
   "cell_type": "code",
   "execution_count": 12,
   "id": "e84564a1",
   "metadata": {},
   "outputs": [
    {
     "data": {
      "text/html": [
       "<div>\n",
       "<style scoped>\n",
       "    .dataframe tbody tr th:only-of-type {\n",
       "        vertical-align: middle;\n",
       "    }\n",
       "\n",
       "    .dataframe tbody tr th {\n",
       "        vertical-align: top;\n",
       "    }\n",
       "\n",
       "    .dataframe thead th {\n",
       "        text-align: right;\n",
       "    }\n",
       "</style>\n",
       "<table border=\"1\" class=\"dataframe\">\n",
       "  <thead>\n",
       "    <tr style=\"text-align: right;\">\n",
       "      <th></th>\n",
       "      <th>분기구분</th>\n",
       "      <th>결제금액</th>\n",
       "      <th>구매금액</th>\n",
       "      <th>할인율</th>\n",
       "    </tr>\n",
       "  </thead>\n",
       "  <tbody>\n",
       "    <tr>\n",
       "      <th>0</th>\n",
       "      <td>19_1/4분기</td>\n",
       "      <td>387112030</td>\n",
       "      <td>549790970</td>\n",
       "      <td>29.589235</td>\n",
       "    </tr>\n",
       "    <tr>\n",
       "      <th>1</th>\n",
       "      <td>19_2/4분기</td>\n",
       "      <td>622253640</td>\n",
       "      <td>863474850</td>\n",
       "      <td>27.936101</td>\n",
       "    </tr>\n",
       "    <tr>\n",
       "      <th>2</th>\n",
       "      <td>19_3/4분기</td>\n",
       "      <td>829886844</td>\n",
       "      <td>1147241820</td>\n",
       "      <td>27.662431</td>\n",
       "    </tr>\n",
       "    <tr>\n",
       "      <th>3</th>\n",
       "      <td>19_4/4분기</td>\n",
       "      <td>1009449090</td>\n",
       "      <td>1420074830</td>\n",
       "      <td>28.915782</td>\n",
       "    </tr>\n",
       "    <tr>\n",
       "      <th>4</th>\n",
       "      <td>20_1/4분기</td>\n",
       "      <td>856540647</td>\n",
       "      <td>1198304020</td>\n",
       "      <td>28.520590</td>\n",
       "    </tr>\n",
       "    <tr>\n",
       "      <th>5</th>\n",
       "      <td>20_2/4분기</td>\n",
       "      <td>469853796</td>\n",
       "      <td>679705320</td>\n",
       "      <td>30.873898</td>\n",
       "    </tr>\n",
       "  </tbody>\n",
       "</table>\n",
       "</div>"
      ],
      "text/plain": [
       "       분기구분        결제금액        구매금액        할인율\n",
       "0  19_1/4분기   387112030   549790970  29.589235\n",
       "1  19_2/4분기   622253640   863474850  27.936101\n",
       "2  19_3/4분기   829886844  1147241820  27.662431\n",
       "3  19_4/4분기  1009449090  1420074830  28.915782\n",
       "4  20_1/4분기   856540647  1198304020  28.520590\n",
       "5  20_2/4분기   469853796   679705320  30.873898"
      ]
     },
     "execution_count": 12,
     "metadata": {},
     "output_type": "execute_result"
    }
   ],
   "source": [
    "# 20_3/4분기 제거\n",
    "\n",
    "p1.iloc[ : -1, :]"
   ]
  },
  {
   "cell_type": "code",
   "execution_count": 13,
   "id": "353820b8",
   "metadata": {},
   "outputs": [
    {
     "data": {
      "text/plain": [
       "Text(0.5, 1.0, '분기별 매출추이')"
      ]
     },
     "execution_count": 13,
     "metadata": {},
     "output_type": "execute_result"
    },
    {
     "data": {
      "image/png": "[encoded data removed]",
      "text/plain": [
       "<Figure size 640x480 with 1 Axes>"
      ]
     },
     "metadata": {},
     "output_type": "display_data"
    }
   ],
   "source": [
    "# 분기별 매출 시각화\n",
    "\n",
    "fig1 = sns.barplot(data = p1.iloc[ : -1, :], x = '분기구분', y = '결제금액')\n",
    "fig1.set_title('분기별 매출추이')"
   ]
  },
  {
   "cell_type": "code",
   "execution_count": 27,
   "id": "7272132d",
   "metadata": {
    "scrolled": true
   },
   "outputs": [
    {
     "data": {
      "text/plain": [
       "<AxesSubplot: ylabel='고객수'>"
      ]
     },
     "execution_count": 27,
     "metadata": {},
     "output_type": "execute_result"
    },
    {
     "data": {
      "image/png": "[encoded data removed]",
      "text/plain": [
       "<Figure size 640x480 with 1 Axes>"
      ]
     },
     "metadata": {},
     "output_type": "display_data"
    }
   ],
   "source": [
    "# 고객수 계산을 위한 column 추가\n",
    "df_sales['count'] = 1\n",
    "# 분기당 고객수를 구하기 위한 pivot_table(중복제거를 위한 aggfunc = 'min')\n",
    "p1 = df_sales.pivot_table(index = '고객번호', columns = '분기구분', values = 'count', aggfunc = 'min')\n",
    "# 각 column들의 합을 구한 리스트를 데이터프레임으로 변환\n",
    "customer_list =  pd.DataFrame([p1['19_1/4분기'].sum(),\n",
    "                    p1['19_2/4분기'].sum(),\n",
    "                    p1['19_3/4분기'].sum(),\n",
    "                    p1['19_4/4분기'].sum(),\n",
    "                    p1['20_1/4분기'].sum(),\n",
    "                    p1['20_2/4분기'].sum()])\n",
    "# index는 분기별, column명을 고객수로 변환\n",
    "customer_list.rename(index = { 0 : '19_1/4분기', 1 : '19_2/4분기', 2 : '19_3/4분기',\n",
    "                             3 : '19_4/4분기', 4 : '20_1/4분기', 5 : '20_2/4분기'}, columns = { 0 : '고객수' }, inplace = True)\n",
    "# 시각화(x부분은 reset_index()를 통해 column으로 뽑아낸 후 사용해도 무방)\n",
    "sns.barplot(data = customer_list, x = customer_list.index.tolist(), y = '고객수')"
   ]
  },
  {
   "cell_type": "code",
   "execution_count": 28,
   "id": "25b41a01",
   "metadata": {},
   "outputs": [
    {
     "data": {
      "text/html": [
       "<div>\n",
       "<style scoped>\n",
       "    .dataframe tbody tr th:only-of-type {\n",
       "        vertical-align: middle;\n",
       "    }\n",
       "\n",
       "    .dataframe tbody tr th {\n",
       "        vertical-align: top;\n",
       "    }\n",
       "\n",
       "    .dataframe thead th {\n",
       "        text-align: right;\n",
       "    }\n",
       "</style>\n",
       "<table border=\"1\" class=\"dataframe\">\n",
       "  <thead>\n",
       "    <tr style=\"text-align: right;\">\n",
       "      <th></th>\n",
       "      <th>결제금액</th>\n",
       "    </tr>\n",
       "    <tr>\n",
       "      <th>유입경로</th>\n",
       "      <th></th>\n",
       "    </tr>\n",
       "  </thead>\n",
       "  <tbody>\n",
       "    <tr>\n",
       "      <th>이마트</th>\n",
       "      <td>60304.977143</td>\n",
       "    </tr>\n",
       "    <tr>\n",
       "      <th>네이버블로그</th>\n",
       "      <td>58487.884963</td>\n",
       "    </tr>\n",
       "    <tr>\n",
       "      <th>오픈마켓</th>\n",
       "      <td>58112.044876</td>\n",
       "    </tr>\n",
       "    <tr>\n",
       "      <th>페이스북</th>\n",
       "      <td>57525.098390</td>\n",
       "    </tr>\n",
       "    <tr>\n",
       "      <th>지인추천</th>\n",
       "      <td>57313.104346</td>\n",
       "    </tr>\n",
       "    <tr>\n",
       "      <th>인스타그램</th>\n",
       "      <td>57157.399517</td>\n",
       "    </tr>\n",
       "    <tr>\n",
       "      <th>네이버카페</th>\n",
       "      <td>56666.875403</td>\n",
       "    </tr>\n",
       "    <tr>\n",
       "      <th>검색광고</th>\n",
       "      <td>55592.029770</td>\n",
       "    </tr>\n",
       "    <tr>\n",
       "      <th>직접검색</th>\n",
       "      <td>53434.101075</td>\n",
       "    </tr>\n",
       "    <tr>\n",
       "      <th>매장쿠폰</th>\n",
       "      <td>46414.662088</td>\n",
       "    </tr>\n",
       "  </tbody>\n",
       "</table>\n",
       "</div>"
      ],
      "text/plain": [
       "                결제금액\n",
       "유입경로                \n",
       "이마트     60304.977143\n",
       "네이버블로그  58487.884963\n",
       "오픈마켓    58112.044876\n",
       "페이스북    57525.098390\n",
       "지인추천    57313.104346\n",
       "인스타그램   57157.399517\n",
       "네이버카페   56666.875403\n",
       "검색광고    55592.029770\n",
       "직접검색    53434.101075\n",
       "매장쿠폰    46414.662088"
      ]
     },
     "execution_count": 28,
     "metadata": {},
     "output_type": "execute_result"
    }
   ],
   "source": [
    "# merge 위해 object형 변수 float로 변환\n",
    "df_sales['고객번호(float)'] = df_sales['고객번호'].astype('float64')\n",
    "# df_member와 df_sales를 각각 ID와 고객번호(float) column을 이용하여 merge\n",
    "df_merge = pd.merge(df_member, df_sales, left_on = 'ID', right_on = '고객번호(float)', how = 'left')\n",
    "# 결측치 제거\n",
    "df_merge.dropna(inplace = True)\n",
    "# 고객ID별 구매금액 및 결제금액 총합\n",
    "p1 = df_merge.pivot_table(index = 'ID', values = ['구매금액', '결제금액'], aggfunc = 'sum')\n",
    "# 유입경로별 고객들의 결제금액 평균을 보기 위해 merge 후 pivot_table 사용\n",
    "p2 = pd.merge(df_member, p1, left_on = 'ID', right_on = 'ID', how = 'left')\n",
    "p2.dropna(inplace = True)\n",
    "p2.pivot_table(index = '유입경로', values = '결제금액').sort_values(by='결제금액', ascending=False)"
   ]
  },
  {
   "cell_type": "code",
   "execution_count": 38,
   "id": "463bc127",
   "metadata": {
    "collapsed": true
   },
   "outputs": [
    {
     "data": {
      "text/plain": [
       "(array([0, 1, 2, 3, 4, 5, 6, 7, 8, 9]),\n",
       " [Text(0, 0, '검색광고'),\n",
       "  Text(1, 0, '네이버블로그'),\n",
       "  Text(2, 0, '네이버카페'),\n",
       "  Text(3, 0, '매장쿠폰'),\n",
       "  Text(4, 0, '오픈마켓'),\n",
       "  Text(5, 0, '이마트'),\n",
       "  Text(6, 0, '인스타그램'),\n",
       "  Text(7, 0, '지인추천'),\n",
       "  Text(8, 0, '직접검색'),\n",
       "  Text(9, 0, '페이스북')])"
      ]
     },
     "execution_count": 38,
     "metadata": {},
     "output_type": "execute_result"
    },
    {
     "data": {
      "image/png": "[encoded data removed]",
      "text/plain": [
       "<Figure size 640x480 with 1 Axes>"
      ]
     },
     "metadata": {},
     "output_type": "display_data"
    }
   ],
   "source": [
    "# 유입경로별 고객들의 결제금액 총합\n",
    "p3 = p2.pivot_table(index = '유입경로', values = '결제금액', aggfunc = 'sum').reset_index()\n",
    "# 시각화\n",
    "sns.barplot(data = p3, x = '유입경로', y = '결제금액')\n",
    "# 글씨가 겹쳐 x축 글자들을 회전시킴\n",
    "plt.xticks(rotation = 45)"
   ]
  },
  {
   "cell_type": "code",
   "execution_count": 43,
   "id": "25709de5",
   "metadata": {
    "collapsed": true
   },
   "outputs": [
    {
     "data": {
      "image/png": "[encoded data removed]",
      "text/plain": [
       "<Figure size 640x480 with 1 Axes>"
      ]
     },
     "metadata": {},
     "output_type": "display_data"
    }
   ],
   "source": [
    "# 유입경로별 고객수 구하기\n",
    "p1 = df_merge.pivot_table(index = 'ID', columns = '유입경로', values = 'count', aggfunc = 'min').reset_index()\n",
    "channel_list = [p1['검색광고'].sum(), \n",
    "                p1['네이버블로그'].sum(), \n",
    "                p1['네이버카페'].sum(), \n",
    "                p1['매장쿠폰'].sum(), \n",
    "                p1['오픈마켓'].sum(), \n",
    "                p1['이마트'].sum(), \n",
    "                p1['인스타그램'].sum(), \n",
    "                p1['지인추천'].sum(), \n",
    "                p1['직접검색'].sum(), \n",
    "                p1['페이스북'].sum()]\n",
    "df_channel = pd.DataFrame(channel_list, index = ['검색광고', '네이버블로그',\n",
    "                                                '네이버카페', '매장쿠폰', '오픈마켓',\n",
    "                                                '이마트', '인스타그램', '지인추천', '직접검색', '페이스북'],\n",
    "                          columns = ['고객수'])\n",
    "# 시각화\n",
    "sns.barplot(data = df_channel, x = df_channel.index.tolist(), y = '고객수')\n",
    "plt.xticks(rotation = 45)\n",
    "plt.show()"
   ]
  },
  {
   "cell_type": "code",
   "execution_count": 49,
   "id": "e85ad111",
   "metadata": {},
   "outputs": [
    {
     "data": {
      "image/png": "[encoded data removed]",
      "text/plain": [
       "<Figure size 640x480 with 1 Axes>"
      ]
     },
     "metadata": {},
     "output_type": "display_data"
    }
   ],
   "source": [
    "# pie차트 시각화\n",
    "colors = sns.color_palette('pastel')\n",
    "\n",
    "plt.pie(df_channel['고객수'], labels=df_channel.index.tolist(), colors=colors,\n",
    "        autopct='%.0f%%', shadow=True, rotatelabels='true')\n",
    "plt.show()"
   ]
  },
  {
   "cell_type": "code",
   "execution_count": 50,
   "id": "8f37c0a7",
   "metadata": {},
   "outputs": [
    {
     "data": {
      "text/html": [
       "<div>\n",
       "<style scoped>\n",
       "    .dataframe tbody tr th:only-of-type {\n",
       "        vertical-align: middle;\n",
       "    }\n",
       "\n",
       "    .dataframe tbody tr th {\n",
       "        vertical-align: top;\n",
       "    }\n",
       "\n",
       "    .dataframe thead th {\n",
       "        text-align: right;\n",
       "    }\n",
       "</style>\n",
       "<table border=\"1\" class=\"dataframe\">\n",
       "  <thead>\n",
       "    <tr style=\"text-align: right;\">\n",
       "      <th></th>\n",
       "      <th>결제금액</th>\n",
       "      <th>구매금액</th>\n",
       "    </tr>\n",
       "    <tr>\n",
       "      <th>유입경로</th>\n",
       "      <th></th>\n",
       "      <th></th>\n",
       "    </tr>\n",
       "  </thead>\n",
       "  <tbody>\n",
       "    <tr>\n",
       "      <th>이마트</th>\n",
       "      <td>24094.454338</td>\n",
       "      <td>33641.415525</td>\n",
       "    </tr>\n",
       "    <tr>\n",
       "      <th>페이스북</th>\n",
       "      <td>23026.516291</td>\n",
       "      <td>32242.216255</td>\n",
       "    </tr>\n",
       "    <tr>\n",
       "      <th>네이버블로그</th>\n",
       "      <td>22610.747441</td>\n",
       "      <td>31959.093428</td>\n",
       "    </tr>\n",
       "    <tr>\n",
       "      <th>네이버카페</th>\n",
       "      <td>22390.185358</td>\n",
       "      <td>31599.177791</td>\n",
       "    </tr>\n",
       "    <tr>\n",
       "      <th>지인추천</th>\n",
       "      <td>22345.256956</td>\n",
       "      <td>31499.127456</td>\n",
       "    </tr>\n",
       "    <tr>\n",
       "      <th>검색광고</th>\n",
       "      <td>22274.991867</td>\n",
       "      <td>31464.057473</td>\n",
       "    </tr>\n",
       "    <tr>\n",
       "      <th>인스타그램</th>\n",
       "      <td>22250.354476</td>\n",
       "      <td>31348.960753</td>\n",
       "    </tr>\n",
       "    <tr>\n",
       "      <th>오픈마켓</th>\n",
       "      <td>22105.366090</td>\n",
       "      <td>31342.991926</td>\n",
       "    </tr>\n",
       "    <tr>\n",
       "      <th>직접검색</th>\n",
       "      <td>21577.817629</td>\n",
       "      <td>30795.900999</td>\n",
       "    </tr>\n",
       "    <tr>\n",
       "      <th>매장쿠폰</th>\n",
       "      <td>20185.109916</td>\n",
       "      <td>28504.994026</td>\n",
       "    </tr>\n",
       "  </tbody>\n",
       "</table>\n",
       "</div>"
      ],
      "text/plain": [
       "                결제금액          구매금액\n",
       "유입경로                              \n",
       "이마트     24094.454338  33641.415525\n",
       "페이스북    23026.516291  32242.216255\n",
       "네이버블로그  22610.747441  31959.093428\n",
       "네이버카페   22390.185358  31599.177791\n",
       "지인추천    22345.256956  31499.127456\n",
       "검색광고    22274.991867  31464.057473\n",
       "인스타그램   22250.354476  31348.960753\n",
       "오픈마켓    22105.366090  31342.991926\n",
       "직접검색    21577.817629  30795.900999\n",
       "매장쿠폰    20185.109916  28504.994026"
      ]
     },
     "execution_count": 50,
     "metadata": {},
     "output_type": "execute_result"
    }
   ],
   "source": [
    "# 유입경로별 평균 결제금액, 구매금액 확인\n",
    "df_merge.pivot_table(index = '유입경로', values = ['구매금액', '결제금액'], aggfunc = 'mean').sort_values(by = '결제금액', ascending = False)"
   ]
  },
  {
   "cell_type": "code",
   "execution_count": 51,
   "id": "a176b7f5",
   "metadata": {},
   "outputs": [
    {
     "data": {
      "text/html": [
       "<div>\n",
       "<style scoped>\n",
       "    .dataframe tbody tr th:only-of-type {\n",
       "        vertical-align: middle;\n",
       "    }\n",
       "\n",
       "    .dataframe tbody tr th {\n",
       "        vertical-align: top;\n",
       "    }\n",
       "\n",
       "    .dataframe thead th {\n",
       "        text-align: right;\n",
       "    }\n",
       "</style>\n",
       "<table border=\"1\" class=\"dataframe\">\n",
       "  <thead>\n",
       "    <tr style=\"text-align: right;\">\n",
       "      <th></th>\n",
       "      <th>ID</th>\n",
       "      <th>결제금액</th>\n",
       "    </tr>\n",
       "  </thead>\n",
       "  <tbody>\n",
       "    <tr>\n",
       "      <th>0</th>\n",
       "      <td>2.018123e+14</td>\n",
       "      <td>54083</td>\n",
       "    </tr>\n",
       "    <tr>\n",
       "      <th>1</th>\n",
       "      <td>2.018123e+14</td>\n",
       "      <td>47922</td>\n",
       "    </tr>\n",
       "    <tr>\n",
       "      <th>2</th>\n",
       "      <td>2.018123e+14</td>\n",
       "      <td>116532</td>\n",
       "    </tr>\n",
       "    <tr>\n",
       "      <th>3</th>\n",
       "      <td>2.018123e+14</td>\n",
       "      <td>19900</td>\n",
       "    </tr>\n",
       "    <tr>\n",
       "      <th>4</th>\n",
       "      <td>2.018123e+14</td>\n",
       "      <td>166877</td>\n",
       "    </tr>\n",
       "    <tr>\n",
       "      <th>...</th>\n",
       "      <td>...</td>\n",
       "      <td>...</td>\n",
       "    </tr>\n",
       "    <tr>\n",
       "      <th>65541</th>\n",
       "      <td>2.019123e+14</td>\n",
       "      <td>19602</td>\n",
       "    </tr>\n",
       "    <tr>\n",
       "      <th>65542</th>\n",
       "      <td>2.019123e+14</td>\n",
       "      <td>3000</td>\n",
       "    </tr>\n",
       "    <tr>\n",
       "      <th>65543</th>\n",
       "      <td>2.019123e+14</td>\n",
       "      <td>14406</td>\n",
       "    </tr>\n",
       "    <tr>\n",
       "      <th>65544</th>\n",
       "      <td>2.019123e+14</td>\n",
       "      <td>163234</td>\n",
       "    </tr>\n",
       "    <tr>\n",
       "      <th>65545</th>\n",
       "      <td>2.019123e+14</td>\n",
       "      <td>4851</td>\n",
       "    </tr>\n",
       "  </tbody>\n",
       "</table>\n",
       "<p>65546 rows × 2 columns</p>\n",
       "</div>"
      ],
      "text/plain": [
       "                 ID    결제금액\n",
       "0      2.018123e+14   54083\n",
       "1      2.018123e+14   47922\n",
       "2      2.018123e+14  116532\n",
       "3      2.018123e+14   19900\n",
       "4      2.018123e+14  166877\n",
       "...             ...     ...\n",
       "65541  2.019123e+14   19602\n",
       "65542  2.019123e+14    3000\n",
       "65543  2.019123e+14   14406\n",
       "65544  2.019123e+14  163234\n",
       "65545  2.019123e+14    4851\n",
       "\n",
       "[65546 rows x 2 columns]"
      ]
     },
     "execution_count": 51,
     "metadata": {},
     "output_type": "execute_result"
    }
   ],
   "source": [
    "# 고객별 결제금액 총합\n",
    "p1 = df_merge.pivot_table(index = 'ID', values = '결제금액', aggfunc = 'sum').reset_index()"
   ]
  },
  {
   "cell_type": "code",
   "execution_count": 52,
   "id": "d9dc0196",
   "metadata": {},
   "outputs": [],
   "source": [
    "# 결제금액별 고객등급 구분\n",
    "cond1 = p1['결제금액'] >= 500000\n",
    "cond2 = (p1['결제금액'] >= 300000) & (p1['결제금액'] < 500000)\n",
    "cond3 = (p1['결제금액'] >= 100000) & (p1['결제금액'] < 300000)\n",
    "cond4 = p1['결제금액'] < 100000\n",
    "\n",
    "p1.loc[cond1, '고객구분'] = 'VIP'\n",
    "p1.loc[cond2, '고객구분'] = 'Gold'\n",
    "p1.loc[cond3, '고객구분'] = 'Silver'\n",
    "p1.loc[cond4, '고객구분'] = 'Basic'"
   ]
  },
  {
   "cell_type": "code",
   "execution_count": 53,
   "id": "fc8fdbca",
   "metadata": {},
   "outputs": [
    {
     "data": {
      "image/png": "[encoded data removed]",
      "text/plain": [
       "<Figure size 640x480 with 1 Axes>"
      ]
     },
     "metadata": {},
     "output_type": "display_data"
    }
   ],
   "source": [
    "# 고객등급별 결제금액 총합\n",
    "payment_table = p1.pivot_table(index = '고객구분', values = '결제금액', aggfunc = 'sum').reset_index()\n",
    "\n",
    "# pie차트 시각화\n",
    "colors = sns.color_palette('pastel')\n",
    "plt.pie(payment_table['결제금액'], labels = payment_table['고객구분'].tolist(), colors=colors,\n",
    "        autopct='%.0f%%', shadow=True, rotatelabels='true')\n",
    "plt.show()"
   ]
  },
  {
   "cell_type": "code",
   "execution_count": 54,
   "id": "b80495e6",
   "metadata": {},
   "outputs": [
    {
     "data": {
      "image/png": "[encoded data removed]",
      "text/plain": [
       "<Figure size 640x480 with 1 Axes>"
      ]
     },
     "metadata": {},
     "output_type": "display_data"
    }
   ],
   "source": [
    "# 고객등급별 고객수 확인\n",
    "p1['count'] = 1\n",
    "\n",
    "# 위에서와 달리 p1은 ID를 기준으로 pivot했기 때문에 바로 sum을 통해 고객수를 구할 수 있음\n",
    "sum_table = p1.pivot_table(index = '고객구분', values = 'count', aggfunc = 'sum').reset_index()\n",
    "\n",
    "# pie차트 시각화\n",
    "colors = sns.color_palette('pastel')\n",
    "plt.pie(sum_table['count'], labels = sum_table['고객구분'].tolist(), colors=colors,\n",
    "        autopct='%.0f%%', shadow=True, rotatelabels='true')\n",
    "plt.title('고객등급')\n",
    "plt.show()"
   ]
  },
  {
   "cell_type": "code",
   "execution_count": 57,
   "id": "bb9a62d2",
   "metadata": {},
   "outputs": [],
   "source": [
    "# df_merge에 고객별 결제금액 총합 column을 추가\n",
    "p2 = pd.merge(df_merge, p1, on = 'ID', how = 'left')"
   ]
  },
  {
   "cell_type": "code",
   "execution_count": 58,
   "id": "205cbdfe",
   "metadata": {},
   "outputs": [],
   "source": [
    "# 필요한 column들만 뽑아서 새로운 데이터프레임 생성\n",
    "new_df = p2[['ID', '성별', '결혼유무', '거주지역', '연령', '결제등록카드', '유입경로', '자녀여부', '구매시월령(수정)', '물품대분류', '고객구분']]"
   ]
  },
  {
   "cell_type": "code",
   "execution_count": 62,
   "id": "e72d0db1",
   "metadata": {},
   "outputs": [
    {
     "name": "stderr",
     "output_type": "stream",
     "text": [
      "C:\\Users\\DMC CONET\\AppData\\Local\\Temp\\ipykernel_6540\\307310527.py:8: SettingWithCopyWarning: \n",
      "A value is trying to be set on a copy of a slice from a DataFrame.\n",
      "Try using .loc[row_indexer,col_indexer] = value instead\n",
      "\n",
      "See the caveats in the documentation: https://pandas.pydata.org/pandas-docs/stable/user_guide/indexing.html#returning-a-view-versus-a-copy\n",
      "  new_df.loc[cond1, '연령구분'] = '20대'\n"
     ]
    }
   ],
   "source": [
    "# 연령 -> 연령구분\n",
    "\n",
    "cond1 = (new_df['연령'] >= 20) & (new_df['연령'] < 30)\n",
    "cond2 = (new_df['연령'] >= 30) & (new_df['연령'] < 35)\n",
    "cond3 = (new_df['연령'] >= 35) & (new_df['연령'] < 40)\n",
    "cond4 = (new_df['연령'] >= 40)\n",
    "\n",
    "new_df.loc[cond1, '연령구분'] = '20대'\n",
    "new_df.loc[cond2, '연령구분'] = '30대초반'\n",
    "new_df.loc[cond3, '연령구분'] = '30대후반'\n",
    "new_df.loc[cond4, '연령구분'] = '40대이상'"
   ]
  },
  {
   "cell_type": "code",
   "execution_count": 63,
   "id": "083c58d4",
   "metadata": {},
   "outputs": [
    {
     "name": "stderr",
     "output_type": "stream",
     "text": [
      "C:\\Users\\DMC CONET\\AppData\\Local\\Temp\\ipykernel_6540\\3551843292.py:17: SettingWithCopyWarning: \n",
      "A value is trying to be set on a copy of a slice from a DataFrame.\n",
      "Try using .loc[row_indexer,col_indexer] = value instead\n",
      "\n",
      "See the caveats in the documentation: https://pandas.pydata.org/pandas-docs/stable/user_guide/indexing.html#returning-a-view-versus-a-copy\n",
      "  new_df.loc[cond1, '월령구분'] = '태아'\n"
     ]
    }
   ],
   "source": [
    "# 구매시월령 -> 월령구분\n",
    "\n",
    "cond1 = new_df['구매시월령(수정)'] < 0\n",
    "cond2 = (new_df['구매시월령(수정)'] >= 0) & (new_df['구매시월령(수정)'] <= 3)\n",
    "cond3 = (new_df['구매시월령(수정)'] > 3) & (new_df['구매시월령(수정)'] <= 6)\n",
    "cond4 = (new_df['구매시월령(수정)'] > 6) & (new_df['구매시월령(수정)'] <= 12)\n",
    "cond5 = (new_df['구매시월령(수정)'] > 12) & (new_df['구매시월령(수정)'] <= 18)\n",
    "cond6 = (new_df['구매시월령(수정)'] > 18) & (new_df['구매시월령(수정)'] <= 24)\n",
    "cond7 = (new_df['구매시월령(수정)'] > 24) & (new_df['구매시월령(수정)'] <= 36)\n",
    "cond8 = (new_df['구매시월령(수정)'] > 36) & (new_df['구매시월령(수정)'] <= 48)\n",
    "cond9 = (new_df['구매시월령(수정)'] > 48) & (new_df['구매시월령(수정)'] <= 60)\n",
    "cond10 = (new_df['구매시월령(수정)'] > 60) & (new_df['구매시월령(수정)'] <= 72)\n",
    "cond11 = (new_df['구매시월령(수정)'] > 72) & (new_df['구매시월령(수정)'] <= 84)\n",
    "cond12 = (new_df['구매시월령(수정)'] > 84) & (new_df['구매시월령(수정)'] <= 96)\n",
    "cond13 = new_df['구매시월령(수정)'] > 96\n",
    "\n",
    "new_df.loc[cond1, '월령구분'] = '태아'\n",
    "new_df.loc[cond2, '월령구분'] = '0-3개월'\n",
    "new_df.loc[cond3, '월령구분'] = '3-6개월'\n",
    "new_df.loc[cond4, '월령구분'] = '6-12개월'\n",
    "new_df.loc[cond5, '월령구분'] = '12-18개월'\n",
    "new_df.loc[cond6, '월령구분'] = '18-24개월'\n",
    "new_df.loc[cond7, '월령구분'] = '2-3세'\n",
    "new_df.loc[cond8, '월령구분'] = '3-4세'\n",
    "new_df.loc[cond9, '월령구분'] = '4-5세'\n",
    "new_df.loc[cond10, '월령구분'] = '5-6세'\n",
    "new_df.loc[cond11, '월령구분'] = '6-7세'\n",
    "new_df.loc[cond12, '월령구분'] = '7-8세'\n",
    "new_df.loc[cond13, '월령구분'] = '8세이상'"
   ]
  },
  {
   "cell_type": "markdown",
   "id": "4212fbbd",
   "metadata": {},
   "source": [
    "# 군집분석(K-Means)"
   ]
  },
  {
   "cell_type": "code",
   "execution_count": 67,
   "id": "4a1141ce",
   "metadata": {},
   "outputs": [],
   "source": [
    "# 군집분석을 위한 X 생성\n",
    "X = new_df[['성별', '결혼유무', '연령구분', '유입경로', '자녀여부', '월령구분', '물품대분류']]"
   ]
  },
  {
   "cell_type": "code",
   "execution_count": 68,
   "id": "b506635a",
   "metadata": {},
   "outputs": [
    {
     "name": "stderr",
     "output_type": "stream",
     "text": [
      "C:\\Users\\DMC CONET\\miniconda3\\lib\\site-packages\\sklearn\\utils\\deprecation.py:87: FutureWarning: Function get_feature_names is deprecated; get_feature_names is deprecated in 1.0 and will be removed in 1.2. Please use get_feature_names_out instead.\n",
      "  warnings.warn(msg, category=FutureWarning)\n"
     ]
    }
   ],
   "source": [
    "# 군집분석은 데이터 간의 \"수치적 거리\"를 계산하여 특성이 비슷한 여러 집단으로 나누기 때문에\n",
    "# 범주형 변수를 연속형 변수로 바꿔 주어야 함(One Hot Encoding/Label Encoding)\n",
    "ohe = OneHotEncoder(sparse = False)\n",
    "ohe.fit(X[['성별', '결혼유무', '연령구분', '유입경로', '자녀여부', '월령구분', '물품대분류']])\n",
    "# One Hot Encoding을 시행한 후 나오는 결과는 데이터프레임이 아닌 numpy 배열\n",
    "X_dummy = ohe.transform(X[['성별', '결혼유무', '연령구분', '유입경로', '자녀여부', '월령구분', '물품대분류']])\n",
    "# 따라서 데이터프레임의 형태로 바꿔주어야 함, column명은 OneHotEncoder 함수에 내장된 get_feature_names()를 이용\n",
    "X_ohe = pd.DataFrame(X_dummy, columns = ohe.get_feature_names())"
   ]
  },
  {
   "cell_type": "markdown",
   "id": "ce10d56b",
   "metadata": {},
   "source": [
    "# 실루엣 스코어 확인"
   ]
  },
  {
   "cell_type": "code",
   "execution_count": 71,
   "id": "a24bfc30",
   "metadata": {},
   "outputs": [],
   "source": [
    "from sklearn.metrics import silhouette_score"
   ]
  },
  {
   "cell_type": "code",
   "execution_count": null,
   "id": "6e0d4393",
   "metadata": {},
   "outputs": [],
   "source": [
    "for i in [3, 4, 5, 6, 7, 8] :\n",
    "    cluster = KMeans(n_clusters = i)\n",
    "    cluster.fit(X_ohe)\n",
    "    X_cluster = cluster.fit_predict(X_ohe)\n",
    "    print(i, '개의 군집 silhouette : ', silhouette_score(X_ohe, X_cluster))"
   ]
  },
  {
   "cell_type": "markdown",
   "id": "de208a48",
   "metadata": {},
   "source": [
    "# 엘보우 차트 확인"
   ]
  },
  {
   "cell_type": "code",
   "execution_count": null,
   "id": "9b28a60e",
   "metadata": {},
   "outputs": [],
   "source": [
    "from yellowbrick.cluster import KElbowVisualizer\n",
    "\n",
    "model = KMeans()\n",
    "visualizer = KElbowVisualizer(model, k=(1,10))\n",
    "visualizer.fit(X_ohe)"
   ]
  },
  {
   "cell_type": "code",
   "execution_count": null,
   "id": "79b39d94",
   "metadata": {},
   "outputs": [],
   "source": [
    "# 실루엣 스코어와 엘보우 차트를 확인하여 나온 최적의 군집갯수(n = 3)\n",
    "\n",
    "cluster = KMeans(n_clusters = 3)\n",
    "cluster.fit(X_ohe)\n",
    "X_ohe['kmeans_cluster'] = cluster.fit_predict(X_ohe)\n",
    "X_ohe['kmeans_cluster'].value_counts()"
   ]
  },
  {
   "cell_type": "markdown",
   "id": "d77de9f3",
   "metadata": {},
   "source": [
    "# 0번 군집 특성 확인\n",
    "\n",
    "    - 30초반"
   ]
  },
  {
   "cell_type": "code",
   "execution_count": null,
   "id": "5eaf8932",
   "metadata": {
    "scrolled": true
   },
   "outputs": [],
   "source": [
    "X_ohe[X_ohe['kmeans_cluster'] == 0][['x0_남', 'x0_여']].value_counts()\n",
    "\n",
    "# 여자 : 77345 / 남자 : 2521"
   ]
  },
  {
   "cell_type": "code",
   "execution_count": null,
   "id": "a4c1dbf8",
   "metadata": {},
   "outputs": [],
   "source": [
    "X_ohe[X_ohe['kmeans_cluster'] == 0][['x1_기혼', 'x1_미혼']].value_counts()\n",
    "\n",
    "# 기혼 : 79866"
   ]
  },
  {
   "cell_type": "code",
   "execution_count": null,
   "id": "7842e43a",
   "metadata": {},
   "outputs": [],
   "source": [
    "X_ohe[X_ohe['kmeans_cluster'] == 0][['x2_20대', 'x2_30대초반', 'x2_30대후반',\n",
    "       'x2_40대이상']].value_counts()\n",
    "\n",
    "# 30대초반 : 79866"
   ]
  },
  {
   "cell_type": "code",
   "execution_count": null,
   "id": "f81405f5",
   "metadata": {
    "scrolled": true
   },
   "outputs": [],
   "source": [
    "X_ohe[X_ohe['kmeans_cluster'] == 0][['x3_검색광고', 'x3_네이버블로그', 'x3_네이버카페', 'x3_매장쿠폰', 'x3_오픈마켓',\n",
    "       'x3_이마트', 'x3_인스타그램', 'x3_지인추천', 'x3_직접검색', 'x3_페이스북']].value_counts()\n",
    "\n",
    "# 인스타 : 30903 / 네이버블로그 : 22448 / 지인추천 : 7873 / 검색광고 : 7808"
   ]
  },
  {
   "cell_type": "code",
   "execution_count": null,
   "id": "bf0724c6",
   "metadata": {},
   "outputs": [],
   "source": [
    "X_ohe[X_ohe['kmeans_cluster'] == 0][['x4_No',\n",
    "       'x4_Yes']].value_counts()\n",
    "\n",
    "# 자녀O"
   ]
  },
  {
   "cell_type": "code",
   "execution_count": null,
   "id": "bae9f266",
   "metadata": {},
   "outputs": [],
   "source": [
    "X_ohe[X_ohe['kmeans_cluster'] == 0][['x5_0-3개월', 'x5_12-18개월', 'x5_18-24개월', 'x5_2-3세', 'x5_3-4세',\n",
    "       'x5_3-6개월', 'x5_4-5세', 'x5_5-6세', 'x5_6-12개월', 'x5_6-7세', 'x5_7-8세',\n",
    "       'x5_8세이상', 'x5_태아']].value_counts()\n",
    "\n",
    "# 0~3개월 : 22491 / 6~12개월 : 16877 / 3~6개월 : 13131"
   ]
  },
  {
   "cell_type": "code",
   "execution_count": null,
   "id": "2102740f",
   "metadata": {},
   "outputs": [],
   "source": [
    "X_ohe[X_ohe['kmeans_cluster'] == 0][['x6_FC', 'x6_FMC', 'x6_SKC', 'x6_SrC', 'x6_기저귀',\n",
    "       'x6_기타', 'x6_더블하트', 'x6_물티슈', 'x6_체험팩', 'x6_팬티']].value_counts()\n",
    "\n",
    "# 더블하트 : 16030 / 체험팩 : 15289 / 기저귀 : 15029 / 팬티 : 11956"
   ]
  },
  {
   "cell_type": "markdown",
   "id": "dd510a95",
   "metadata": {},
   "source": [
    "# 1번 군집 특성 확인\n",
    "\n",
    "    - 30대 초반을 제외한 집단"
   ]
  },
  {
   "cell_type": "code",
   "execution_count": null,
   "id": "ebf08e95",
   "metadata": {},
   "outputs": [],
   "source": [
    "X_ohe[X_ohe['kmeans_cluster'] == 1][['x0_남', 'x0_여']].value_counts()\n",
    "\n",
    "# 여자 : 55474 / 남자 : 1740"
   ]
  },
  {
   "cell_type": "code",
   "execution_count": null,
   "id": "afacaf61",
   "metadata": {},
   "outputs": [],
   "source": [
    "X_ohe[X_ohe['kmeans_cluster'] == 1][['x1_기혼', 'x1_미혼']].value_counts()\n",
    "\n",
    "# 기혼 : 57214"
   ]
  },
  {
   "cell_type": "code",
   "execution_count": null,
   "id": "dc5ecad1",
   "metadata": {},
   "outputs": [],
   "source": [
    "X_ohe[X_ohe['kmeans_cluster'] == 1][['x2_20대', 'x2_30대초반', 'x2_30대후반',\n",
    "       'x2_40대이상']].value_counts()\n",
    "\n",
    "# 30대후반 : 38649 / 20대 : 17016"
   ]
  },
  {
   "cell_type": "code",
   "execution_count": null,
   "id": "26d5b515",
   "metadata": {},
   "outputs": [],
   "source": [
    "X_ohe[X_ohe['kmeans_cluster'] == 1][['x3_검색광고', 'x3_네이버블로그', 'x3_네이버카페', 'x3_매장쿠폰', 'x3_오픈마켓',\n",
    "       'x3_이마트', 'x3_인스타그램', 'x3_지인추천', 'x3_직접검색', 'x3_페이스북']].value_counts()\n",
    "\n",
    "# 인스타 : 21851 / 네이버블로그 : 16499 / 검색광고 : 5734"
   ]
  },
  {
   "cell_type": "code",
   "execution_count": null,
   "id": "3fa15d65",
   "metadata": {},
   "outputs": [],
   "source": [
    "X_ohe[X_ohe['kmeans_cluster'] == 1][['x4_No',\n",
    "       'x4_Yes']].value_counts()\n",
    "\n",
    "# 자녀 O 55504"
   ]
  },
  {
   "cell_type": "code",
   "execution_count": null,
   "id": "bb80afd5",
   "metadata": {},
   "outputs": [],
   "source": [
    "X_ohe[X_ohe['kmeans_cluster'] == 1][['x5_0-3개월', 'x5_12-18개월', 'x5_18-24개월', 'x5_2-3세', 'x5_3-4세',\n",
    "       'x5_3-6개월', 'x5_4-5세', 'x5_5-6세', 'x5_6-12개월', 'x5_6-7세', 'x5_7-8세',\n",
    "       'x5_8세이상', 'x5_태아']].value_counts()\n",
    "\n",
    "# 0~3개월 : 16182 / 6~12개월 : 11745 / 3~6개월 : 9562"
   ]
  },
  {
   "cell_type": "code",
   "execution_count": null,
   "id": "577f4849",
   "metadata": {},
   "outputs": [],
   "source": [
    "X_ohe[X_ohe['kmeans_cluster'] == 1][['x6_FC', 'x6_FMC', 'x6_SKC', 'x6_SrC', 'x6_기저귀',\n",
    "       'x6_기타', 'x6_더블하트', 'x6_물티슈', 'x6_체험팩', 'x6_팬티']].value_counts()\n",
    "\n",
    "# 더블하트 : 11781 / 체험팩 : 10971 / 기저귀 : 10691 / 팬티 : 8452"
   ]
  },
  {
   "cell_type": "markdown",
   "id": "fe665f41",
   "metadata": {},
   "source": [
    "# 2번 군집 특성 확인\n",
    "\n",
    "    - 자녀X, 선물용 물품 구매 집단"
   ]
  },
  {
   "cell_type": "code",
   "execution_count": null,
   "id": "7d74158b",
   "metadata": {},
   "outputs": [],
   "source": [
    "X_ohe[X_ohe['kmeans_cluster'] == 2][['x0_남', 'x0_여']].value_counts()\n",
    "\n",
    "# 여자 : 29732 / 남자 : 1028"
   ]
  },
  {
   "cell_type": "code",
   "execution_count": null,
   "id": "64f3bf3a",
   "metadata": {},
   "outputs": [],
   "source": [
    "X_ohe[X_ohe['kmeans_cluster'] == 2][['x1_기혼', 'x1_미혼']].value_counts()\n",
    "\n",
    "# 미혼 : 25583 / 기혼 : 5177"
   ]
  },
  {
   "cell_type": "code",
   "execution_count": null,
   "id": "b5f37751",
   "metadata": {},
   "outputs": [],
   "source": [
    "X_ohe[X_ohe['kmeans_cluster'] == 2][['x2_20대', 'x2_30대초반', 'x2_30대후반',\n",
    "       'x2_40대이상']].value_counts()\n",
    "\n",
    "# 30대초반 : 19024 / 30대후반 : 6973 / 20대 : 4279"
   ]
  },
  {
   "cell_type": "code",
   "execution_count": null,
   "id": "f822ba71",
   "metadata": {},
   "outputs": [],
   "source": [
    "X_ohe[X_ohe['kmeans_cluster'] == 2][['x3_검색광고', 'x3_네이버블로그', 'x3_네이버카페', 'x3_매장쿠폰', 'x3_오픈마켓',\n",
    "       'x3_이마트', 'x3_인스타그램', 'x3_지인추천', 'x3_직접검색', 'x3_페이스북']].value_counts()"
   ]
  },
  {
   "cell_type": "code",
   "execution_count": null,
   "id": "bd5660ee",
   "metadata": {},
   "outputs": [],
   "source": [
    "X_ohe[X_ohe['kmeans_cluster'] == 2][['x4_No',\n",
    "       'x4_Yes']].value_counts()\n",
    "\n",
    "# 자녀 X"
   ]
  },
  {
   "cell_type": "code",
   "execution_count": null,
   "id": "ddb1d20f",
   "metadata": {},
   "outputs": [],
   "source": [
    "X_ohe[X_ohe['kmeans_cluster'] == 2][['x5_0-3개월', 'x5_12-18개월', 'x5_18-24개월', 'x5_2-3세', 'x5_3-4세',\n",
    "       'x5_3-6개월', 'x5_4-5세', 'x5_5-6세', 'x5_6-12개월', 'x5_6-7세', 'x5_7-8세',\n",
    "       'x5_8세이상', 'x5_태아']].value_counts()"
   ]
  },
  {
   "cell_type": "code",
   "execution_count": null,
   "id": "b5819ac6",
   "metadata": {},
   "outputs": [],
   "source": [
    "X_ohe[X_ohe['kmeans_cluster'] == 2][['x6_FC', 'x6_FMC', 'x6_SKC', 'x6_SrC', 'x6_기저귀',\n",
    "       'x6_기타', 'x6_더블하트', 'x6_물티슈', 'x6_체험팩', 'x6_팬티']].value_counts()"
   ]
  },
  {
   "cell_type": "markdown",
   "id": "3850c25e",
   "metadata": {},
   "source": [
    "# 모델링(DecisionTreeClassifier, XGBClassifier, RandomForestClassifier)"
   ]
  },
  {
   "cell_type": "code",
   "execution_count": 66,
   "id": "a25d9a8f",
   "metadata": {},
   "outputs": [],
   "source": [
    "from sklearn.model_selection import train_test_split\n",
    "from sklearn.impute import SimpleImputer\n",
    "from sklearn.preprocessing import MinMaxScaler\n",
    "from sklearn.preprocessing import OneHotEncoder\n",
    "from imblearn.pipeline import make_pipeline\n",
    "from sklearn.compose import make_column_transformer\n",
    "from sklearn.cluster import KMeans\n",
    "from sklearn.tree import DecisionTreeClassifier\n",
    "from sklearn.metrics import classification_report\n",
    "from sklearn.model_selection import GridSearchCV"
   ]
  },
  {
   "cell_type": "code",
   "execution_count": 72,
   "id": "48c58834",
   "metadata": {},
   "outputs": [],
   "source": [
    "# Modeling을 위한 X, Y 구분\n",
    "\n",
    "X = new_df[['성별', '결혼유무', '거주지역', '연령', '결제등록카드', '유입경로', '자녀여부', '구매시월령(수정)', '물품대분류']]\n",
    "Y = new_df['고객구분']"
   ]
  },
  {
   "cell_type": "code",
   "execution_count": 73,
   "id": "06b6f2b8",
   "metadata": {},
   "outputs": [],
   "source": [
    "# 연속형, 범주형 변수 구분하여 리스트로 저장\n",
    "\n",
    "numeric_list = X.describe().columns.tolist()\n",
    "category_list = X.describe(include = 'object').columns.tolist()"
   ]
  },
  {
   "cell_type": "markdown",
   "id": "dac81da4",
   "metadata": {},
   "source": [
    "# DecisionTree_ohe"
   ]
  },
  {
   "cell_type": "code",
   "execution_count": 74,
   "id": "1b13c3e0",
   "metadata": {
    "collapsed": true
   },
   "outputs": [
    {
     "name": "stderr",
     "output_type": "stream",
     "text": [
      "C:\\Users\\DMC CONET\\miniconda3\\lib\\site-packages\\sklearn\\utils\\deprecation.py:87: FutureWarning: Function get_feature_names is deprecated; get_feature_names is deprecated in 1.0 and will be removed in 1.2. Please use get_feature_names_out instead.\n",
      "  warnings.warn(msg, category=FutureWarning)\n",
      "C:\\Users\\DMC CONET\\miniconda3\\lib\\site-packages\\sklearn\\utils\\deprecation.py:87: FutureWarning: Function get_feature_names is deprecated; get_feature_names is deprecated in 1.0 and will be removed in 1.2. Please use get_feature_names_out instead.\n",
      "  warnings.warn(msg, category=FutureWarning)\n"
     ]
    },
    {
     "name": "stdout",
     "output_type": "stream",
     "text": [
      "              precision    recall  f1-score   support\n",
      "\n",
      "       Basic       0.97      0.99      0.98     70096\n",
      "        Gold       0.96      0.96      0.96     11372\n",
      "      Silver       0.98      0.95      0.97     38593\n",
      "         VIP       0.99      0.95      0.97      5819\n",
      "\n",
      "    accuracy                           0.97    125880\n",
      "   macro avg       0.98      0.96      0.97    125880\n",
      "weighted avg       0.97      0.97      0.97    125880\n",
      "\n",
      "              precision    recall  f1-score   support\n",
      "\n",
      "       Basic       0.74      0.74      0.74     23454\n",
      "        Gold       0.44      0.47      0.45      3701\n",
      "      Silver       0.55      0.54      0.54     12851\n",
      "         VIP       0.58      0.62      0.60      1954\n",
      "\n",
      "    accuracy                           0.65     41960\n",
      "   macro avg       0.58      0.59      0.58     41960\n",
      "weighted avg       0.65      0.65      0.65     41960\n",
      "\n"
     ]
    }
   ],
   "source": [
    "# 학습 데이터와 검증 데이터 나누기\n",
    "X_train, X_test, Y_train, Y_test = train_test_split(X, Y, random_state = 42)\n",
    "\n",
    "# MinMaxScaler를 통한 연속형 변수 전처리\n",
    "scaler = MinMaxScaler()\n",
    "scaler.fit(X_train[numeric_list])\n",
    "X_train[numeric_list] = scaler.transform(X_train[numeric_list])\n",
    "X_test[numeric_list] = scaler.transform(X_test[numeric_list])\n",
    "\n",
    "# OneHotEncoder를 통한 범주형 변수 전처리\n",
    "ohe = OneHotEncoder(sparse = False)\n",
    "ohe.fit(X_train[category_list])\n",
    "X_train_dummy = ohe.transform(X_train[category_list])\n",
    "X_test_dummy = ohe.transform(X_test[category_list])\n",
    "X_train_ohe = pd.DataFrame(X_train_dummy, columns = ohe.get_feature_names())\n",
    "X_test_ohe = pd.DataFrame(X_test_dummy, columns = ohe.get_feature_names())\n",
    "\n",
    "# 전처리가 완료된 연속형 변수와 범주형 변수를 다시 합침\n",
    "new_X_train = pd.concat([X_train[numeric_list].reset_index().iloc[ : , 1 : ], X_train_ohe], axis = 1)\n",
    "new_X_test = pd.concat([X_test[numeric_list].reset_index().iloc[ : , 1 : ], X_test_ohe], axis = 1)\n",
    "\n",
    "# Model 학습\n",
    "model = DecisionTreeClassifier()\n",
    "model.fit(new_X_train, Y_train)\n",
    "\n",
    "# 학습된 Model을 통해 결과 예측\n",
    "Y_train_pred = model.predict(new_X_train)\n",
    "Y_test_pred = model.predict(new_X_test)\n",
    "\n",
    "# Score 확인\n",
    "print(classification_report(Y_train, Y_train_pred))\n",
    "print(classification_report(Y_test, Y_test_pred))"
   ]
  },
  {
   "cell_type": "markdown",
   "id": "0383ec6b",
   "metadata": {},
   "source": [
    "# DecisionTree_SMOTE"
   ]
  },
  {
   "cell_type": "code",
   "execution_count": 76,
   "id": "57f2a8e0",
   "metadata": {},
   "outputs": [],
   "source": [
    "from imblearn.over_sampling import SMOTE"
   ]
  },
  {
   "cell_type": "code",
   "execution_count": 65,
   "id": "851290e2",
   "metadata": {
    "collapsed": true
   },
   "outputs": [
    {
     "name": "stderr",
     "output_type": "stream",
     "text": [
      "C:\\Users\\DMC CONET\\AppData\\Local\\Temp\\ipykernel_10324\\3718192988.py:1: SettingWithCopyWarning: \n",
      "A value is trying to be set on a copy of a slice from a DataFrame.\n",
      "Try using .loc[row_indexer,col_indexer] = value instead\n",
      "\n",
      "See the caveats in the documentation: https://pandas.pydata.org/pandas-docs/stable/user_guide/indexing.html#returning-a-view-versus-a-copy\n",
      "  X[numeric_list] = X[numeric_list].fillna(0)\n",
      "C:\\Users\\DMC CONET\\miniconda3\\lib\\site-packages\\sklearn\\utils\\deprecation.py:87: FutureWarning: Function get_feature_names is deprecated; get_feature_names is deprecated in 1.0 and will be removed in 1.2. Please use get_feature_names_out instead.\n",
      "  warnings.warn(msg, category=FutureWarning)\n",
      "C:\\Users\\DMC CONET\\miniconda3\\lib\\site-packages\\sklearn\\utils\\deprecation.py:87: FutureWarning: Function get_feature_names is deprecated; get_feature_names is deprecated in 1.0 and will be removed in 1.2. Please use get_feature_names_out instead.\n",
      "  warnings.warn(msg, category=FutureWarning)\n"
     ]
    },
    {
     "name": "stdout",
     "output_type": "stream",
     "text": [
      "              precision    recall  f1-score   support\n",
      "\n",
      "       Basic       0.97      0.99      0.98     70229\n",
      "        Gold       0.99      0.99      0.99     70229\n",
      "      Silver       0.99      0.97      0.98     70229\n",
      "         VIP       1.00      1.00      1.00     70229\n",
      "\n",
      "    accuracy                           0.99    280916\n",
      "   macro avg       0.99      0.99      0.99    280916\n",
      "weighted avg       0.99      0.99      0.99    280916\n",
      "\n",
      "              precision    recall  f1-score   support\n",
      "\n",
      "       Basic       0.74      0.72      0.73     23501\n",
      "        Gold       0.42      0.46      0.44      3698\n",
      "      Silver       0.54      0.54      0.54     12847\n",
      "         VIP       0.57      0.61      0.59      1984\n",
      "\n",
      "    accuracy                           0.64     42030\n",
      "   macro avg       0.57      0.58      0.58     42030\n",
      "weighted avg       0.64      0.64      0.64     42030\n",
      "\n"
     ]
    }
   ],
   "source": [
    "X[numeric_list] = X[numeric_list].fillna(0)\n",
    "X_train, X_test, Y_train, Y_test = train_test_split(X, Y, random_state = 42)\n",
    "\n",
    "scaler = MinMaxScaler()\n",
    "scaler.fit(X_train[numeric_list])\n",
    "X_train[numeric_list] = scaler.transform(X_train[numeric_list])\n",
    "X_test[numeric_list] = scaler.transform(X_test[numeric_list])\n",
    "\n",
    "ohe = OneHotEncoder(sparse = False)\n",
    "ohe.fit(X_train[category_list])\n",
    "X_train_dummy = ohe.transform(X_train[category_list])\n",
    "X_test_dummy = ohe.transform(X_test[category_list])\n",
    "X_train_ohe = pd.DataFrame(X_train_dummy, columns = ohe.get_feature_names())\n",
    "X_test_ohe = pd.DataFrame(X_test_dummy, columns = ohe.get_feature_names())\n",
    "\n",
    "new_X_train = pd.concat([X_train[numeric_list].reset_index().iloc[ : , 1 : ], X_train_ohe], axis = 1)\n",
    "new_X_test = pd.concat([X_test[numeric_list].reset_index().iloc[ : , 1 : ], X_test_ohe], axis = 1)\n",
    "\n",
    "# 위의 모델과 같지만 SMOTE 알고리즘을 통해 불균형 데이터를 맞춰주는 과정\n",
    "over_sampler = SMOTE()\n",
    "over_sampler.fit(new_X_train, Y_train)\n",
    "X_over, Y_over = over_sampler.fit_resample(new_X_train, Y_train)\n",
    "\n",
    "model = DecisionTreeClassifier()\n",
    "model.fit(X_over, Y_over)\n",
    "\n",
    "Y_train_pred = model.predict(X_over)\n",
    "Y_test_pred = model.predict(new_X_test)\n",
    "\n",
    "print(classification_report(Y_over, Y_train_pred))\n",
    "print(classification_report(Y_test, Y_test_pred))"
   ]
  },
  {
   "cell_type": "markdown",
   "id": "2acd95cb",
   "metadata": {},
   "source": [
    "# DecisionTree_Label"
   ]
  },
  {
   "cell_type": "code",
   "execution_count": 66,
   "id": "f436e654",
   "metadata": {},
   "outputs": [],
   "source": [
    "from sklearn.preprocessing import LabelEncoder"
   ]
  },
  {
   "cell_type": "code",
   "execution_count": 67,
   "id": "515ece27",
   "metadata": {
    "collapsed": true
   },
   "outputs": [
    {
     "name": "stderr",
     "output_type": "stream",
     "text": [
      "C:\\Users\\DMC CONET\\AppData\\Local\\Temp\\ipykernel_10324\\1148480974.py:1: SettingWithCopyWarning: \n",
      "A value is trying to be set on a copy of a slice from a DataFrame.\n",
      "Try using .loc[row_indexer,col_indexer] = value instead\n",
      "\n",
      "See the caveats in the documentation: https://pandas.pydata.org/pandas-docs/stable/user_guide/indexing.html#returning-a-view-versus-a-copy\n",
      "  X[numeric_list] = X[numeric_list].fillna(0)\n"
     ]
    },
    {
     "name": "stdout",
     "output_type": "stream",
     "text": [
      "              precision    recall  f1-score   support\n",
      "\n",
      "       Basic       0.97      0.99      0.98     70229\n",
      "        Gold       0.96      0.96      0.96     11396\n",
      "      Silver       0.99      0.94      0.96     38669\n",
      "         VIP       0.99      0.94      0.97      5793\n",
      "\n",
      "    accuracy                           0.97    126087\n",
      "   macro avg       0.98      0.96      0.97    126087\n",
      "weighted avg       0.97      0.97      0.97    126087\n",
      "\n",
      "              precision    recall  f1-score   support\n",
      "\n",
      "       Basic       0.74      0.71      0.73     23501\n",
      "        Gold       0.41      0.47      0.44      3698\n",
      "      Silver       0.53      0.53      0.53     12847\n",
      "         VIP       0.56      0.61      0.58      1984\n",
      "\n",
      "    accuracy                           0.63     42030\n",
      "   macro avg       0.56      0.58      0.57     42030\n",
      "weighted avg       0.64      0.63      0.64     42030\n",
      "\n"
     ]
    }
   ],
   "source": [
    "X[numeric_list] = X[numeric_list].fillna(0)\n",
    "X_train, X_test, Y_train, Y_test = train_test_split(X, Y, random_state = 42)\n",
    "\n",
    "scaler = MinMaxScaler()\n",
    "scaler.fit(X_train[numeric_list])\n",
    "X_train[numeric_list] = scaler.transform(X_train[numeric_list])\n",
    "X_test[numeric_list] = scaler.transform(X_test[numeric_list])\n",
    "\n",
    "# LabelEncoder를 통한 범주형 변수 전처리\n",
    "for i in category_list :\n",
    "    le = LabelEncoder()\n",
    "    le.fit(X[i])\n",
    "    X_train[i] = le.transform(X_train[i])\n",
    "    X_test[i] = le.transform(X_test[i])\n",
    "\n",
    "model = DecisionTreeClassifier()\n",
    "model.fit(X_train, Y_train)\n",
    "\n",
    "Y_train_pred = model.predict(X_train)\n",
    "Y_test_pred = model.predict(X_test)\n",
    "\n",
    "print(classification_report(Y_train, Y_train_pred))\n",
    "print(classification_report(Y_test, Y_test_pred))"
   ]
  },
  {
   "cell_type": "code",
   "execution_count": null,
   "id": "45b17b9d",
   "metadata": {},
   "outputs": [],
   "source": [
    "X = new_df[['성별', '결혼유무', '거주지역', '연령', '결제등록카드', '유입경로', '자녀여부', '구매시월령(수정)', '물품대분류']]\n",
    "Y = new_df['고객구분']\n",
    "\n",
    "numeric_list = X.describe().columns.tolist()\n",
    "category_list = X.describe(include = 'object').columns.tolist()"
   ]
  },
  {
   "cell_type": "code",
   "execution_count": 68,
   "id": "8605e00d",
   "metadata": {},
   "outputs": [],
   "source": [
    "from xgboost import XGBClassifier\n",
    "from xgboost import plot_importance"
   ]
  },
  {
   "cell_type": "markdown",
   "id": "65d42b30",
   "metadata": {},
   "source": [
    "# XGB_Label"
   ]
  },
  {
   "cell_type": "code",
   "execution_count": 69,
   "id": "7b86b0f0",
   "metadata": {},
   "outputs": [
    {
     "name": "stdout",
     "output_type": "stream",
     "text": [
      "              precision    recall  f1-score   support\n",
      "\n",
      "           0       0.70      0.87      0.78     70229\n",
      "           1       0.56      0.50      0.53     38669\n",
      "           2       0.85      0.15      0.25     11396\n",
      "           3       0.95      0.34      0.50      5793\n",
      "\n",
      "    accuracy                           0.67    126087\n",
      "   macro avg       0.76      0.47      0.52    126087\n",
      "weighted avg       0.68      0.67      0.64    126087\n",
      "\n",
      "              precision    recall  f1-score   support\n",
      "\n",
      "           0       0.69      0.86      0.77     23501\n",
      "           1       0.54      0.49      0.51     12847\n",
      "           2       0.80      0.13      0.22      3698\n",
      "           3       0.90      0.29      0.44      1984\n",
      "\n",
      "    accuracy                           0.65     42030\n",
      "   macro avg       0.73      0.44      0.48     42030\n",
      "weighted avg       0.67      0.65      0.63     42030\n",
      "\n"
     ]
    }
   ],
   "source": [
    "X = new_df[['성별', '결혼유무', '거주지역', '연령', '결제등록카드', '유입경로', '자녀여부', '구매시월령(수정)', '물품대분류']]\n",
    "Y = new_df['고객구분']\n",
    "X = X.rename(columns = {'성별' : 'gender', '결혼유무' : 'marriage', '거주지역' : 'region',\n",
    "                       '연령' : 'age', '결제등록카드' : 'bank', '유입경로' : 'channel',\n",
    "                       '자녀여부' : 'kids', '구매시월령(수정)' : 'month_age',\n",
    "                       '물품대분류' : 'goods'})\n",
    "Y = Y.replace({'Basic' : 0, 'Silver' : 1, 'Gold' : 2, 'VIP' : 3})\n",
    "\n",
    "numeric_list = X.describe().columns.tolist()\n",
    "category_list = X.describe(include = 'object').columns.tolist()\n",
    "\n",
    "X[numeric_list] = X[numeric_list].fillna(0)\n",
    "X_train, X_test, Y_train, Y_test = train_test_split(X, Y, random_state = 42)\n",
    "\n",
    "scaler = MinMaxScaler()\n",
    "scaler.fit(X_train[numeric_list])\n",
    "X_train[numeric_list] = scaler.transform(X_train[numeric_list])\n",
    "X_test[numeric_list] = scaler.transform(X_test[numeric_list])\n",
    "\n",
    "for i in category_list :\n",
    "    le = LabelEncoder()\n",
    "    le.fit(X[i])\n",
    "    X_train[i] = le.transform(X_train[i])\n",
    "    X_test[i] = le.transform(X_test[i])\n",
    "\n",
    "model = XGBClassifier()\n",
    "model.fit(X_train, Y_train)\n",
    "\n",
    "Y_train_pred = model.predict(X_train)\n",
    "Y_test_pred = model.predict(X_test)\n",
    "\n",
    "print(classification_report(Y_train, Y_train_pred))\n",
    "print(classification_report(Y_test, Y_test_pred))"
   ]
  },
  {
   "cell_type": "code",
   "execution_count": 70,
   "id": "8abea7f7",
   "metadata": {
    "scrolled": true
   },
   "outputs": [
    {
     "data": {
      "text/plain": [
       "<AxesSubplot: title={'center': 'Feature importance'}, xlabel='F score', ylabel='Features'>"
      ]
     },
     "execution_count": 70,
     "metadata": {},
     "output_type": "execute_result"
    },
    {
     "data": {
      "image/png": "[encoded data removed]",
      "text/plain": [
       "<Figure size 1000x1200 with 1 Axes>"
      ]
     },
     "metadata": {},
     "output_type": "display_data"
    }
   ],
   "source": [
    "%matplotlib inline\n",
    "\n",
    "fig, ax = plt.subplots(figsize=(10, 12))\n",
    "plot_importance(model, ax=ax)"
   ]
  },
  {
   "cell_type": "markdown",
   "id": "8af844e2",
   "metadata": {},
   "source": [
    "# XGB_SMOTE"
   ]
  },
  {
   "cell_type": "code",
   "execution_count": 71,
   "id": "007d0c0b",
   "metadata": {},
   "outputs": [
    {
     "name": "stderr",
     "output_type": "stream",
     "text": [
      "C:\\Users\\DMC CONET\\miniconda3\\lib\\site-packages\\sklearn\\utils\\deprecation.py:87: FutureWarning: Function get_feature_names is deprecated; get_feature_names is deprecated in 1.0 and will be removed in 1.2. Please use get_feature_names_out instead.\n",
      "  warnings.warn(msg, category=FutureWarning)\n",
      "C:\\Users\\DMC CONET\\miniconda3\\lib\\site-packages\\sklearn\\utils\\deprecation.py:87: FutureWarning: Function get_feature_names is deprecated; get_feature_names is deprecated in 1.0 and will be removed in 1.2. Please use get_feature_names_out instead.\n",
      "  warnings.warn(msg, category=FutureWarning)\n"
     ]
    },
    {
     "name": "stdout",
     "output_type": "stream",
     "text": [
      "              precision    recall  f1-score   support\n",
      "\n",
      "           0       0.68      0.81      0.74     70229\n",
      "           1       0.63      0.51      0.56     70229\n",
      "           2       0.74      0.73      0.73     70229\n",
      "           3       0.82      0.84      0.83     70229\n",
      "\n",
      "    accuracy                           0.72    280916\n",
      "   macro avg       0.72      0.72      0.72    280916\n",
      "weighted avg       0.72      0.72      0.72    280916\n",
      "\n",
      "              precision    recall  f1-score   support\n",
      "\n",
      "           0       0.71      0.79      0.75     23501\n",
      "           1       0.55      0.45      0.49     12847\n",
      "           2       0.45      0.29      0.36      3698\n",
      "           3       0.39      0.60      0.47      1984\n",
      "\n",
      "    accuracy                           0.63     42030\n",
      "   macro avg       0.53      0.53      0.52     42030\n",
      "weighted avg       0.62      0.63      0.62     42030\n",
      "\n"
     ]
    }
   ],
   "source": [
    "X = new_df[['성별', '결혼유무', '거주지역', '연령', '결제등록카드', '유입경로', '자녀여부', '구매시월령(수정)', '물품대분류']]\n",
    "Y = new_df['고객구분']\n",
    "X = X.rename(columns = {'성별' : 'gender', '결혼유무' : 'marriage', '거주지역' : 'region',\n",
    "                       '연령' : 'age', '결제등록카드' : 'bank', '유입경로' : 'channel',\n",
    "                       '자녀여부' : 'kids', '구매시월령(수정)' : 'month_age',\n",
    "                       '물품대분류' : 'goods'})\n",
    "Y = Y.replace({'Basic' : 0, 'Silver' : 1, 'Gold' : 2, 'VIP' : 3})\n",
    "\n",
    "numeric_list = X.describe().columns.tolist()\n",
    "category_list = X.describe(include = 'object').columns.tolist()\n",
    "\n",
    "X[numeric_list] = X[numeric_list].fillna(0)\n",
    "X_train, X_test, Y_train, Y_test = train_test_split(X, Y, random_state = 42)\n",
    "\n",
    "scaler = MinMaxScaler()\n",
    "scaler.fit(X_train[numeric_list])\n",
    "X_train[numeric_list] = scaler.transform(X_train[numeric_list])\n",
    "X_test[numeric_list] = scaler.transform(X_test[numeric_list])\n",
    "\n",
    "ohe = OneHotEncoder(sparse = False)\n",
    "ohe.fit(X_train[category_list])\n",
    "X_train_dummy = ohe.transform(X_train[category_list])\n",
    "X_test_dummy = ohe.transform(X_test[category_list])\n",
    "X_train_ohe = pd.DataFrame(X_train_dummy, columns = ohe.get_feature_names())\n",
    "X_test_ohe = pd.DataFrame(X_test_dummy, columns = ohe.get_feature_names())\n",
    "\n",
    "new_X_train = pd.concat([X_train[numeric_list].reset_index().iloc[ : , 1 : ], X_train_ohe], axis = 1)\n",
    "new_X_test = pd.concat([X_test[numeric_list].reset_index().iloc[ : , 1 : ], X_test_ohe], axis = 1)\n",
    "    \n",
    "over_sampler = SMOTE()\n",
    "over_sampler.fit(new_X_train, Y_train)\n",
    "X_over, Y_over = over_sampler.fit_resample(new_X_train, Y_train)\n",
    "\n",
    "model = XGBClassifier()\n",
    "model.fit(X_over, Y_over)\n",
    "\n",
    "Y_train_pred = model.predict(X_over)\n",
    "Y_test_pred = model.predict(new_X_test)\n",
    "\n",
    "print(classification_report(Y_over, Y_train_pred))\n",
    "print(classification_report(Y_test, Y_test_pred))"
   ]
  },
  {
   "cell_type": "code",
   "execution_count": 72,
   "id": "e867879c",
   "metadata": {},
   "outputs": [],
   "source": [
    "from sklearn.ensemble import RandomForestClassifier"
   ]
  },
  {
   "cell_type": "code",
   "execution_count": 73,
   "id": "83af6e2a",
   "metadata": {},
   "outputs": [
    {
     "name": "stderr",
     "output_type": "stream",
     "text": [
      "C:\\Users\\DMC CONET\\miniconda3\\lib\\site-packages\\sklearn\\utils\\deprecation.py:87: FutureWarning: Function get_feature_names is deprecated; get_feature_names is deprecated in 1.0 and will be removed in 1.2. Please use get_feature_names_out instead.\n",
      "  warnings.warn(msg, category=FutureWarning)\n",
      "C:\\Users\\DMC CONET\\miniconda3\\lib\\site-packages\\sklearn\\utils\\deprecation.py:87: FutureWarning: Function get_feature_names is deprecated; get_feature_names is deprecated in 1.0 and will be removed in 1.2. Please use get_feature_names_out instead.\n",
      "  warnings.warn(msg, category=FutureWarning)\n"
     ]
    },
    {
     "name": "stdout",
     "output_type": "stream",
     "text": [
      "              precision    recall  f1-score   support\n",
      "\n",
      "           0       0.98      0.98      0.98     70229\n",
      "           1       0.98      0.98      0.98     70229\n",
      "           2       0.99      0.99      0.99     70229\n",
      "           3       1.00      1.00      1.00     70229\n",
      "\n",
      "    accuracy                           0.99    280916\n",
      "   macro avg       0.99      0.99      0.99    280916\n",
      "weighted avg       0.99      0.99      0.99    280916\n",
      "\n",
      "              precision    recall  f1-score   support\n",
      "\n",
      "           0       0.81      0.80      0.80     23501\n",
      "           1       0.65      0.67      0.66     12847\n",
      "           2       0.66      0.63      0.65      3698\n",
      "           3       0.78      0.78      0.78      1984\n",
      "\n",
      "    accuracy                           0.74     42030\n",
      "   macro avg       0.72      0.72      0.72     42030\n",
      "weighted avg       0.74      0.74      0.74     42030\n",
      "\n"
     ]
    }
   ],
   "source": [
    "X = new_df[['성별', '결혼유무', '거주지역', '연령', '결제등록카드', '유입경로', '자녀여부', '구매시월령(수정)', '물품대분류']]\n",
    "Y = new_df['고객구분']\n",
    "X = X.rename(columns = {'성별' : 'gender', '결혼유무' : 'marriage', '거주지역' : 'region',\n",
    "                       '연령' : 'age', '결제등록카드' : 'bank', '유입경로' : 'channel',\n",
    "                       '자녀여부' : 'kids', '구매시월령(수정)' : 'month_age',\n",
    "                       '물품대분류' : 'goods'})\n",
    "Y = Y.replace({'Basic' : 0, 'Silver' : 1, 'Gold' : 2, 'VIP' : 3})\n",
    "\n",
    "numeric_list = X.describe().columns.tolist()\n",
    "category_list = X.describe(include = 'object').columns.tolist()\n",
    "\n",
    "X[numeric_list] = X[numeric_list].fillna(0)\n",
    "X_train, X_test, Y_train, Y_test = train_test_split(X, Y, random_state = 42)\n",
    "\n",
    "scaler = MinMaxScaler()\n",
    "scaler.fit(X_train[numeric_list])\n",
    "X_train[numeric_list] = scaler.transform(X_train[numeric_list])\n",
    "X_test[numeric_list] = scaler.transform(X_test[numeric_list])\n",
    "\n",
    "ohe = OneHotEncoder(sparse = False)\n",
    "ohe.fit(X_train[category_list])\n",
    "X_train_dummy = ohe.transform(X_train[category_list])\n",
    "X_test_dummy = ohe.transform(X_test[category_list])\n",
    "X_train_ohe = pd.DataFrame(X_train_dummy, columns = ohe.get_feature_names())\n",
    "X_test_ohe = pd.DataFrame(X_test_dummy, columns = ohe.get_feature_names())\n",
    "\n",
    "new_X_train = pd.concat([X_train[numeric_list].reset_index().iloc[ : , 1 : ], X_train_ohe], axis = 1)\n",
    "new_X_test = pd.concat([X_test[numeric_list].reset_index().iloc[ : , 1 : ], X_test_ohe], axis = 1)\n",
    "    \n",
    "over_sampler = SMOTE()\n",
    "over_sampler.fit(new_X_train, Y_train)\n",
    "X_over, Y_over = over_sampler.fit_resample(new_X_train, Y_train)\n",
    "\n",
    "model = RandomForestClassifier()\n",
    "model.fit(X_over, Y_over)\n",
    "\n",
    "Y_train_pred = model.predict(X_over)\n",
    "Y_test_pred = model.predict(new_X_test)\n",
    "\n",
    "print(classification_report(Y_over, Y_train_pred))\n",
    "print(classification_report(Y_test, Y_test_pred))"
   ]
  },
  {
   "cell_type": "code",
   "execution_count": null,
   "id": "a0aae4fe",
   "metadata": {},
   "outputs": [],
   "source": []
  }
 ],
 "metadata": {
  "kernelspec": {
   "display_name": "Python 3 (ipykernel)",
   "language": "python",
   "name": "python3"
  },
  "language_info": {
   "codemirror_mode": {
    "name": "ipython",
    "version": 3
   },
   "file_extension": ".py",
   "mimetype": "text/x-python",
   "name": "python",
   "nbconvert_exporter": "python",
   "pygments_lexer": "ipython3",
   "version": "3.9.12"
  }
 },
 "nbformat": 4,
 "nbformat_minor": 5
}
